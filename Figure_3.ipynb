{
 "cells": [
  {
   "cell_type": "code",
   "execution_count": 1,
   "id": "6c66c977-753b-4d4e-9645-b30ab58d6ecb",
   "metadata": {},
   "outputs": [],
   "source": [
    "%matplotlib inline\n",
    "import matplotlib.pyplot as plt\n",
    "import numpy as np\n",
    "import re\n",
    "import math\n",
    "import seaborn as sns\n",
    "import pandas as pd\n",
    "import random\n",
    "import statistics\n",
    "import gzip\n",
    "from collections import Counter\n",
    "import scipy\n",
    "import scipy.stats"
   ]
  },
  {
   "cell_type": "code",
   "execution_count": 2,
   "id": "01522b93-4244-4fa7-8c27-4bf658fbcd78",
   "metadata": {},
   "outputs": [],
   "source": [
    "overlap_LoF_hits = [76, 78, 79, 82, 88, 106, 113, 114, 117, 118, 119, 121, 127, 128, 129, 131, 135, 136, 138, 139, \\\n",
    "                    141, 165, 190, 191, 193, 199, 203, 204, 207, 208, 209, 219, 286, 289, 290, 293, 294, 312, 315, \\\n",
    "                    318, 322, 325, 326, 327, 328, 329, 330]\n",
    "overlap_GoF_hits = [87, 101, 124, 130, 170, 187, 189, 218, 231, 251, 268, 283, 313, 345, 355, 359, 362, 375, 392, 410]\n",
    "overlap_CoF_hits = [47, 120, 122, 215, 306, 311, 321, 332]\n"
   ]
  },
  {
   "cell_type": "code",
   "execution_count": 3,
   "id": "7e0911e6-d773-4400-920e-a5b005106e9e",
   "metadata": {},
   "outputs": [
    {
     "name": "stdout",
     "output_type": "stream",
     "text": [
      "# total_frames:1 beg:0 end:0 stride:1 interaction_types:hp,sb,pc,ps,ts,vdw,hb\n",
      "\n",
      "# Columns: frame, interaction_type, atom_1, atom_2[, atom_3[, atom_4]]\n",
      "\n"
     ]
    }
   ],
   "source": [
    "interactions_dict_3SN6 = {}\n",
    "with open ('/Users/tmighell/CRG/GPCR_DMS/b2AR_structures/3SN6_R.tsv') as data:\n",
    "    print (data.readline())\n",
    "    print (data.readline())\n",
    "    for line in data:\n",
    "        ls = line.split()\n",
    "        if ls[1] not in interactions_dict_3SN6:\n",
    "            interactions_dict_3SN6[ls[1]] = []\n",
    "        res1 = int(ls[2].split(':')[2])\n",
    "        res2 = int(ls[3].split(':')[2])\n",
    "        if res1 != res2 and int(res1) < 450 and int(res2) < 450:\n",
    "            interactions_dict_3SN6[ls[1]].append([res1, res2])\n"
   ]
  },
  {
   "cell_type": "code",
   "execution_count": 4,
   "id": "bc612ec7-ddad-492a-993d-82245afb862a",
   "metadata": {},
   "outputs": [
    {
     "name": "stdout",
     "output_type": "stream",
     "text": [
      "# total_frames:1 beg:0 end:0 stride:1 interaction_types:hp,sb,pc,ps,ts,vdw,hb\n",
      "\n",
      "# Columns: frame, interaction_type, atom_1, atom_2[, atom_3[, atom_4]]\n",
      "\n"
     ]
    }
   ],
   "source": [
    "interactions_dict_2RH1 = {}\n",
    "with open ('/Users/tmighell/CRG/GPCR_DMS/b2AR_structures/2RH1_A.tsv') as data:\n",
    "    print (data.readline())\n",
    "    print (data.readline())\n",
    "    for line in data:\n",
    "        ls = line.split()\n",
    "        if ls[1] not in interactions_dict_2RH1:\n",
    "            interactions_dict_2RH1[ls[1]] = []\n",
    "        res1 = int(ls[2].split(':')[2])\n",
    "        res2 = int(ls[3].split(':')[2])\n",
    "        if res1 != res2 and int(res1) < 450 and int(res2) < 450:\n",
    "            interactions_dict_2RH1[ls[1]].append([res1, res2])"
   ]
  },
  {
   "cell_type": "code",
   "execution_count": 5,
   "id": "da8c5bbf-f3b3-4986-8255-c4dcc8debbb6",
   "metadata": {},
   "outputs": [],
   "source": [
    "LoF_3SN6_hits_dict = {}\n",
    "for var in overlap_LoF_hits:\n",
    "    LoF_3SN6_hits_dict[var] = {}\n",
    "    for interaction_type in interactions_dict_3SN6:\n",
    "        LoF_3SN6_hits_dict[var][interaction_type] = []\n",
    "        for interaction in interactions_dict_3SN6[interaction_type]:\n",
    "            if var in interaction:\n",
    "                LoF_3SN6_hits_dict[var][interaction_type].append([i for i in interaction if i != var ][0])"
   ]
  },
  {
   "cell_type": "code",
   "execution_count": 6,
   "id": "e83da305-da76-4241-b72d-453af411ceed",
   "metadata": {},
   "outputs": [],
   "source": [
    "LoF_2RH1_hits_dict = {}\n",
    "for var in overlap_LoF_hits:\n",
    "    LoF_2RH1_hits_dict[var] = {}\n",
    "    for interaction_type in interactions_dict_2RH1:\n",
    "        LoF_2RH1_hits_dict[var][interaction_type] = []\n",
    "        for interaction in interactions_dict_2RH1[interaction_type]:\n",
    "            if var in interaction:\n",
    "                LoF_2RH1_hits_dict[var][interaction_type].append([i for i in interaction if i != var ][0])"
   ]
  },
  {
   "cell_type": "code",
   "execution_count": 7,
   "id": "f2dedb8a-73e7-4456-a151-1623323abdbb",
   "metadata": {},
   "outputs": [
    {
     "name": "stdout",
     "output_type": "stream",
     "text": [
      "88\n",
      "106\n",
      "193\n"
     ]
    }
   ],
   "source": [
    "_3SN6_contacts_list = []\n",
    "for hit in LoF_3SN6_hits_dict:\n",
    "    contacts = False\n",
    "    for interaction_type in LoF_3SN6_hits_dict[hit]:\n",
    "        for pos in LoF_3SN6_hits_dict[hit][interaction_type]:\n",
    "            if pos in overlap_LoF_hits:\n",
    "                contacts = True\n",
    "                if int(pos) > int(hit):\n",
    "                    _3SN6_contacts_list.append((hit, pos))\n",
    "    if contacts == False:\n",
    "        print (hit)"
   ]
  },
  {
   "cell_type": "code",
   "execution_count": 8,
   "id": "70621f00-a3f6-4054-bbc2-8fc71650cf3a",
   "metadata": {},
   "outputs": [
    {
     "name": "stdout",
     "output_type": "stream",
     "text": [
      "88\n",
      "106\n",
      "219\n"
     ]
    }
   ],
   "source": [
    "_2RH1_contacts_list = []\n",
    "for hit in LoF_2RH1_hits_dict:\n",
    "    contacts = False\n",
    "    for interaction_type in LoF_2RH1_hits_dict[hit]:\n",
    "        for pos in LoF_2RH1_hits_dict[hit][interaction_type]:\n",
    "            if pos in overlap_LoF_hits:\n",
    "                contacts = True\n",
    "                if int(pos) > int(hit):\n",
    "                    _2RH1_contacts_list.append((hit, pos))\n",
    "    if contacts == False:\n",
    "        print (hit)"
   ]
  },
  {
   "cell_type": "code",
   "execution_count": 9,
   "id": "80154943-4053-4669-8e19-b88713e05a56",
   "metadata": {},
   "outputs": [],
   "source": [
    "residues_in_3SN6 = []\n",
    "with open ('/Users/tmighell/CRG/GPCR_DMS/b2AR_structures/3sn6.pdb') as data:\n",
    "    for line in data:\n",
    "        ls = line.split()\n",
    "        if ls[0] == 'ATOM' and ls[4] == 'R':\n",
    "            residues_in_3SN6.append(int(ls[5]) )\n",
    "            \n",
    "residues_in_2RH1 = []\n",
    "with open ('/Users/tmighell/CRG/GPCR_DMS/b2AR_structures/2rh1.pdb') as data:\n",
    "    for line in data:\n",
    "        ls = line.split()\n",
    "        if ls[0] == 'ATOM' and ls[4] == 'A':\n",
    "            residues_in_2RH1.append(int(ls[5]) )"
   ]
  },
  {
   "cell_type": "code",
   "execution_count": 10,
   "id": "03ce677d-c662-4a5c-aab7-15c7b15c4ea5",
   "metadata": {},
   "outputs": [],
   "source": [
    "with open ('overlap_LoF_hits_for_3SN6.pb', 'w') as fout:\n",
    "    fout.write('; color = purple'+'\\n')\n",
    "    fout.write('; radius = 0.25'+'\\n')\n",
    "    fout.write('; dashes = 0'+'\\n')\n",
    "    for pair in _3SN6_contacts_list:\n",
    "        if pair[0] in residues_in_3SN6 and pair[1] in residues_in_3SN6:\n",
    "            fout.write('/R:'+str(pair[0])+'@ca ' + '/R:'+str(pair[1])+'@ca'+'\\n')\n",
    "        else:\n",
    "            print (pair)"
   ]
  },
  {
   "cell_type": "code",
   "execution_count": 11,
   "id": "9a679bb8-7bc1-490d-9a5d-933da15568b9",
   "metadata": {},
   "outputs": [],
   "source": [
    "with open ('overlap_LoF_hits_for_2RH1.pb', 'w') as fout:\n",
    "    fout.write('; color = purple'+'\\n')\n",
    "    fout.write('; radius = 0.25'+'\\n')\n",
    "    fout.write('; dashes = 0'+'\\n')\n",
    "    for pair in _2RH1_contacts_list:\n",
    "        if pair[0] in residues_in_2RH1 and pair[1] in residues_in_2RH1:\n",
    "            fout.write('/A:'+str(pair[0])+'@ca ' + '/A:'+str(pair[1])+'@ca'+'\\n')\n",
    "        else:\n",
    "            print (pair)"
   ]
  },
  {
   "cell_type": "code",
   "execution_count": 12,
   "id": "5673e7c1-8c88-4548-a8eb-49ca375a7f79",
   "metadata": {},
   "outputs": [],
   "source": [
    "TM1 = [i-1 for i in range(35, 59)]\n",
    "TM2 = [i-1 for i in range(72, 96)]\n",
    "TM3 = [i-1 for i in range(107, 130)]\n",
    "TM4 = [i-1 for i in range(151, 175)]\n",
    "TM5 = [i-1 for i in range(197, 221)]\n",
    "TM6 = [i-1 for i in range(275, 299)]\n",
    "TM7 = [i-1 for i in range(306, 330)]\n"
   ]
  },
  {
   "cell_type": "code",
   "execution_count": 13,
   "id": "10d14180-1db4-49b4-86fb-ca985f917b1f",
   "metadata": {},
   "outputs": [],
   "source": [
    "bias_df = pd.DataFrame(columns = ['TM1', 'TM2', 'TM3', 'TM4', 'TM5', 'TM6', 'TM7'], index=['GoF', 'LoF', 'CoF'])\n",
    "TM1_list = []\n",
    "TM1_list.append(len([i for i in overlap_GoF_hits if i in TM1])) \n",
    "TM1_list.append(len([i for i in overlap_LoF_hits if i in TM1])) \n",
    "TM1_list.append(len([i for i in overlap_CoF_hits if i in TM1])) \n",
    "bias_df['TM1'] = TM1_list\n",
    "\n",
    "TM2_list = []\n",
    "TM2_list.append(len([i for i in overlap_GoF_hits if i in TM2])) \n",
    "TM2_list.append(len([i for i in overlap_LoF_hits if i in TM2])) \n",
    "TM2_list.append(len([i for i in overlap_CoF_hits if i in TM2])) \n",
    "bias_df['TM2'] = TM2_list\n",
    "\n",
    "TM3_list = []\n",
    "TM3_list.append(len([i for i in overlap_GoF_hits if i in TM3])) \n",
    "TM3_list.append(len([i for i in overlap_LoF_hits if i in TM3])) \n",
    "TM3_list.append(len([i for i in overlap_CoF_hits if i in TM3])) \n",
    "bias_df['TM3'] = TM3_list\n",
    "\n",
    "TM4_list = []\n",
    "TM4_list.append(len([i for i in overlap_GoF_hits if i in TM4])) \n",
    "TM4_list.append(len([i for i in overlap_LoF_hits if i in TM4])) \n",
    "TM4_list.append(len([i for i in overlap_CoF_hits if i in TM4])) \n",
    "bias_df['TM4'] = TM4_list\n",
    "\n",
    "TM5_list = []\n",
    "TM5_list.append(len([i for i in overlap_GoF_hits if i in TM5])) \n",
    "TM5_list.append(len([i for i in overlap_LoF_hits if i in TM5])) \n",
    "TM5_list.append(len([i for i in overlap_CoF_hits if i in TM5])) \n",
    "bias_df['TM5'] = TM5_list\n",
    "\n",
    "TM6_list = []\n",
    "TM6_list.append(len([i for i in overlap_GoF_hits if i in TM6])) \n",
    "TM6_list.append(len([i for i in overlap_LoF_hits if i in TM6])) \n",
    "TM6_list.append(len([i for i in overlap_CoF_hits if i in TM6])) \n",
    "bias_df['TM6'] = TM6_list\n",
    "\n",
    "TM7_list = []\n",
    "TM7_list.append(len([i for i in overlap_GoF_hits if i in TM7])) \n",
    "TM7_list.append(len([i for i in overlap_LoF_hits if i in TM7])) \n",
    "TM7_list.append(len([i for i in overlap_CoF_hits if i in TM7])) \n",
    "bias_df['TM7'] = TM7_list"
   ]
  },
  {
   "cell_type": "code",
   "execution_count": 14,
   "id": "8a774fe2-e88c-41ca-9742-43eec4a61b17",
   "metadata": {},
   "outputs": [
    {
     "data": {
      "text/plain": [
       "<Figure size 500x400 with 0 Axes>"
      ]
     },
     "metadata": {},
     "output_type": "display_data"
    },
    {
     "data": {
      "image/png": "[encoded data removed]",
      "text/plain": [
       "<Figure size 640x480 with 1 Axes>"
      ]
     },
     "metadata": {},
     "output_type": "display_data"
    }
   ],
   "source": [
    "plt.figure(figsize=(5, 4))\n",
    "my_pal = {'GoF': 'green', \\\n",
    "          'LoF': 'purple', \\\n",
    "         'CoF':'red'}\n",
    "bias_df.T.plot.bar(stacked=True, edgecolor='k', color=my_pal, alpha=0.8)\n",
    "plt.xticks(rotation=0, fontsize=18)\n",
    "plt.yticks(fontsize=18)\n",
    "plt.tight_layout()\n",
    "#plt.savefig('functional_residues_per_TM.png', dpi=250)"
   ]
  },
  {
   "cell_type": "code",
   "execution_count": null,
   "id": "e28f6318-ac37-4935-b169-e1bf7f0dc6c4",
   "metadata": {},
   "outputs": [],
   "source": []
  }
 ],
 "metadata": {
  "kernelspec": {
   "display_name": "Python 3 (ipykernel)",
   "language": "python",
   "name": "python3"
  },
  "language_info": {
   "codemirror_mode": {
    "name": "ipython",
    "version": 3
   },
   "file_extension": ".py",
   "mimetype": "text/x-python",
   "name": "python",
   "nbconvert_exporter": "python",
   "pygments_lexer": "ipython3",
   "version": "3.9.13"
  }
 },
 "nbformat": 4,
 "nbformat_minor": 5
}
